{
 "cells": [
  {
   "cell_type": "code",
   "execution_count": 7,
   "metadata": {
    "ExecuteTime": {
     "end_time": "2017-04-21T11:59:11.245607Z",
     "start_time": "2017-04-21T11:59:11.243279Z"
    },
    "button": false,
    "collapsed": false,
    "new_sheet": false,
    "run_control": {
     "read_only": false
    }
   },
   "outputs": [],
   "source": [
    "from neuralNetwork import *\n",
    "import scipy.io as scio\n",
    "import matplotlib.pyplot as plt\n",
    "import time\n",
    "import csv\n",
    "from numba import jit"
   ]
  },
  {
   "cell_type": "code",
   "execution_count": 8,
   "metadata": {
    "ExecuteTime": {
     "end_time": "2017-04-21T11:59:12.501625Z",
     "start_time": "2017-04-21T11:59:11.604992Z"
    },
    "button": false,
    "collapsed": false,
    "new_sheet": false,
    "run_control": {
     "read_only": false
    }
   },
   "outputs": [],
   "source": [
    "newData = scio.loadmat('originalData/letters_data.mat')\n",
    "trainYencoded = scio.loadmat('trainYencoded.mat')\n",
    "# I converted the labels in MATLAB using the included encodeLabels.m\n",
    "# since it was much faster than Python.\n",
    "# I simply called encodeLabels on the original train_y set.\n",
    "\n",
    "trainX = newData['train_x']\n",
    "trainY = trainYencoded['trainY']\n",
    "testX = newData['test_x']\n",
    "\n",
    "NN = NeuralNetwork(784,200,26,0.01)"
   ]
  },
  {
   "cell_type": "code",
   "execution_count": 9,
   "metadata": {
    "ExecuteTime": {
     "end_time": "2017-04-21T11:59:12.515470Z",
     "start_time": "2017-04-21T11:59:12.513333Z"
    },
    "button": false,
    "collapsed": true,
    "new_sheet": false,
    "run_control": {
     "read_only": false
    }
   },
   "outputs": [],
   "source": [
    "NN.V = (NN.V + abs(NN.V.min()))\n",
    "NN.W = (NN.W + abs(NN.W.min()))"
   ]
  },
  {
   "cell_type": "code",
   "execution_count": 10,
   "metadata": {
    "ExecuteTime": {
     "end_time": "2017-04-21T11:59:12.877619Z",
     "start_time": "2017-04-21T11:59:12.875826Z"
    },
    "button": false,
    "collapsed": true,
    "new_sheet": false,
    "run_control": {
     "read_only": false
    }
   },
   "outputs": [],
   "source": [
    "\"\"\" Adjust learning rate \"\"\"\n",
    "\n",
    "NN.learningRate = 0.01"
   ]
  },
  {
   "cell_type": "code",
   "execution_count": 11,
   "metadata": {
    "ExecuteTime": {
     "end_time": "2017-04-21T11:59:13.797856Z",
     "start_time": "2017-04-21T11:59:13.784329Z"
    },
    "collapsed": true
   },
   "outputs": [],
   "source": [
    "\"\"\" ----- General Training Function ----- \"\"\"\n",
    "\n",
    "def runTraining(numEpochs=300):\n",
    "    currEpoch = 0\n",
    "    while currEpoch < numEpochs:\n",
    "        print(\"\\nCurrent Epoch: \",currEpoch)\n",
    "        indices = range(0, 124800)\n",
    "        indices = np.random.permutation(indices)\n",
    "\n",
    "        j = 0\n",
    "        cost = 0\n",
    "\n",
    "        while j < 124800:\n",
    "            i = indices[j]\n",
    "            X = np.append(trainX[i,:], 1)\n",
    "            X = (X - np.mean(X))/np.std(X)\n",
    "\n",
    "            NN.trainNetwork(X, trainY[i])\n",
    "            cost += NN.crossEntropyError(X, trainY[i])\n",
    "            if j % 5000 == 0 and j != 0:\n",
    "                print(cost / j)\n",
    "\n",
    "            j += 1\n",
    "\n",
    "        currEpoch += 1\n",
    "        NN.learningRate = NN.learningRate*0.99"
   ]
  },
  {
   "cell_type": "code",
   "execution_count": null,
   "metadata": {
    "ExecuteTime": {
     "start_time": "2017-04-21T18:59:17.506Z"
    },
    "collapsed": false
   },
   "outputs": [
    {
     "name": "stdout",
     "output_type": "stream",
     "text": [
      "\n",
      "Current Epoch:  0\n",
      "1.33368309048\n",
      "0.991636540538\n",
      "0.839859823336\n",
      "0.748062572939\n",
      "0.687485861464\n",
      "0.643117979746\n",
      "0.609624266167\n",
      "0.583642442185\n",
      "0.56441376871\n",
      "0.548678816106\n",
      "0.534118312895\n",
      "0.521896712822\n",
      "0.510751769071\n",
      "0.500394192771\n",
      "0.492152167864\n",
      "0.484979028303\n",
      "0.478147027778\n",
      "0.471718887777\n",
      "0.466645728363\n",
      "0.46309303885\n",
      "0.45808982042\n",
      "0.454502593523\n",
      "0.451709650808\n",
      "0.448360577192\n",
      "\n",
      "Current Epoch:  1\n",
      "0.361197930496\n",
      "0.353096529937\n",
      "0.35707241407\n",
      "0.355077423088\n",
      "0.35403990583\n",
      "0.355362509297\n",
      "0.354311120292\n",
      "0.353521949549\n",
      "0.35445279709\n",
      "0.355971987066\n",
      "0.356089113811\n",
      "0.355598184803\n",
      "0.356232736414\n",
      "0.357529302334\n",
      "0.357972062035\n",
      "0.357039294995\n",
      "0.357773854963\n",
      "0.357661241651\n",
      "0.357334524634\n",
      "0.35691991276\n",
      "0.35646168766\n",
      "0.356071133447\n",
      "0.355864906691\n",
      "0.355911226135\n",
      "\n",
      "Current Epoch:  2\n",
      "0.342438611788\n",
      "0.341726140414\n",
      "0.335665877828\n",
      "0.33830027386\n",
      "0.340429506892\n",
      "0.338608843189\n",
      "0.340413202785\n",
      "0.341930060538\n",
      "0.342118792294\n",
      "0.34037861641\n",
      "0.339586380298\n",
      "0.33841062354\n"
     ]
    }
   ],
   "source": [
    "runTraining()"
   ]
  },
  {
   "cell_type": "code",
   "execution_count": null,
   "metadata": {
    "button": false,
    "collapsed": false,
    "new_sheet": false,
    "run_control": {
     "read_only": false
    }
   },
   "outputs": [],
   "source": [
    "\"\"\" Cross Validation Training \"\"\"\n",
    "startTime = time.time()\n",
    "currEpoch = 0\n",
    "recordCost = []\n",
    "iterations = []\n",
    "while currEpoch < 1:\n",
    "    print(\"\\nCurrent Epoch: \",currEpoch)\n",
    "    indices = range(0, 124800)\n",
    "    indices = np.random.permutation(indices)\n",
    "\n",
    "    j = 0\n",
    "    cost = 0\n",
    "\n",
    "    while j < 99840:\n",
    "        i = indices[j]\n",
    "        X = np.append(trainX[i,:], 1)\n",
    "        X = (X - np.mean(X))/np.std(X)\n",
    "        \n",
    "        NN.trainNetwork(X, trainY[i])\n",
    "        cost += NN.crossEntropyError(X, trainY[i])\n",
    "        if j % 2000 == 0 and j != 0:\n",
    "            iterations.append(j)\n",
    "            recordCost.append(cost / j)\n",
    "            print(cost / j)\n",
    "\n",
    "        j += 1\n",
    "\n",
    "    currEpoch += 1\n",
    "    NN.learningRate = NN.learningRate*0.99"
   ]
  },
  {
   "cell_type": "code",
   "execution_count": null,
   "metadata": {
    "collapsed": true
   },
   "outputs": [],
   "source": [
    "plt.plot(iterations,recordCost)\n",
    "plt.show()"
   ]
  },
  {
   "cell_type": "code",
   "execution_count": null,
   "metadata": {
    "button": false,
    "collapsed": true,
    "new_sheet": false,
    "run_control": {
     "read_only": false
    }
   },
   "outputs": [],
   "source": [
    "\"\"\" ----- Cross Validation Results (20% of Data) ----- \"\"\"\n",
    "\n",
    "correct = 0\n",
    "validationSize = 124800 - j\n",
    "print(j,validationSize)\n",
    "fiveCorrect = []\n",
    "fiveWrong = []\n",
    "while j < 124800:\n",
    "    i = indices[j]\n",
    "    X = np.append(trainX[i,:], 1) # (785,1) np array\n",
    "    X = (X - np.mean(X))/np.std(X)\n",
    "    label = np.argmax(trainY[i])\n",
    "    output = np.argmax(NN.predict(X))\n",
    "    #print(label,output,label-output)\n",
    "    \n",
    "    if label == output:\n",
    "        correct += 1\n",
    "        \n",
    "        if len(fiveCorrect) < 5:\n",
    "            fiveCorrect.append(trainX[i,:].reshape(28,28))\n",
    "    else:\n",
    "        if len(fiveWrong) < 5:\n",
    "            fiveWrong.append(trainX[i,:].reshape(28,28))\n",
    "        \n",
    "    j += 1\n",
    "\n",
    "endTime = time.time()\n",
    "total_time = endTime-startTime\n",
    "\n",
    "print(\"Validation Accuracy: \" + str(correct/validationSize) + \" | Training time (s): \" + str(total_time))\n"
   ]
  },
  {
   "cell_type": "code",
   "execution_count": null,
   "metadata": {
    "button": false,
    "collapsed": true,
    "new_sheet": false,
    "run_control": {
     "read_only": false
    }
   },
   "outputs": [],
   "source": [
    "\"\"\" ----- Final Test Results ----- \"\"\"\n",
    "testX = newData['test_x']\n",
    "k = 0\n",
    "predLabels = []\n",
    "while k < 20800:\n",
    "    X = np.append(testX[k,:], 1) # (785,1) np array\n",
    "    X = (X - np.mean(X))/np.std(X)\n",
    "    output = np.argmax(NN.predict(X))\n",
    "    predLabels.append(output)\n",
    "    \n",
    "    k += 1"
   ]
  },
  {
   "cell_type": "code",
   "execution_count": null,
   "metadata": {
    "button": false,
    "collapsed": true,
    "new_sheet": false,
    "run_control": {
     "read_only": false
    }
   },
   "outputs": [],
   "source": [
    "\"\"\" ----- Save Predicted Labels (Kaggle) ----- \"\"\"\n",
    "i = 0\n",
    "j = 1\n",
    "with open('results.csv', 'w') as csvfile:\n",
    "    filewriter = csv.writer(csvfile, delimiter=' ', quotechar='|', quoting=csv.QUOTE_MINIMAL)\n",
    "    filewriter.writerow(['Id,Category'])\n",
    "    for label in predLabels:\n",
    "        filewriter.writerow([str(j) + ',' + str(label+1)])\n",
    "        i += 1\n",
    "        j += 1"
   ]
  },
  {
   "cell_type": "code",
   "execution_count": null,
   "metadata": {
    "button": false,
    "collapsed": false,
    "new_sheet": false,
    "run_control": {
     "read_only": false
    },
    "scrolled": false
   },
   "outputs": [],
   "source": [
    "\"\"\" ----- Visualization (Problem 3) ----- \"\"\"\n",
    "print(\"5 Correct Results:\")\n",
    "for correctPred in fiveCorrect:\n",
    "    plt.imshow(correctPred)\n",
    "    plt.show()"
   ]
  },
  {
   "cell_type": "code",
   "execution_count": null,
   "metadata": {
    "button": false,
    "collapsed": false,
    "new_sheet": false,
    "run_control": {
     "read_only": false
    }
   },
   "outputs": [],
   "source": [
    "print(\"5 Wrong Results:\")\n",
    "for wrongPred in fiveWrong:\n",
    "    plt.imshow(wrongPred)\n",
    "    plt.show()"
   ]
  },
  {
   "cell_type": "code",
   "execution_count": null,
   "metadata": {
    "button": false,
    "collapsed": false,
    "new_sheet": false,
    "run_control": {
     "read_only": false
    }
   },
   "outputs": [],
   "source": [
    "\"\"\" Test speed of training \"\"\"\n",
    "\n",
    "%prun runTraining()"
   ]
  },
  {
   "cell_type": "code",
   "execution_count": null,
   "metadata": {
    "collapsed": true
   },
   "outputs": [],
   "source": []
  }
 ],
 "metadata": {
  "anaconda-cloud": {},
  "kernelspec": {
   "display_name": "Python 3",
   "language": "python",
   "name": "python3"
  },
  "language_info": {
   "codemirror_mode": {
    "name": "ipython",
    "version": 3
   },
   "file_extension": ".py",
   "mimetype": "text/x-python",
   "name": "python",
   "nbconvert_exporter": "python",
   "pygments_lexer": "ipython3",
   "version": "3.6.0"
  },
  "varInspector": {
   "cols": {
    "lenName": 16,
    "lenType": 16,
    "lenVar": 40
   },
   "kernels_config": {
    "python": {
     "delete_cmd_postfix": "",
     "delete_cmd_prefix": "del ",
     "library": "var_list.py",
     "varRefreshCmd": "print(var_dic_list())"
    },
    "r": {
     "delete_cmd_postfix": ") ",
     "delete_cmd_prefix": "rm(",
     "library": "var_list.r",
     "varRefreshCmd": "cat(var_dic_list()) "
    }
   },
   "position": {
    "height": "305px",
    "left": "1381px",
    "right": "20px",
    "top": "254px",
    "width": "495px"
   },
   "types_to_exclude": [
    "module",
    "function",
    "builtin_function_or_method",
    "instance",
    "_Feature"
   ],
   "window_display": false
  }
 },
 "nbformat": 4,
 "nbformat_minor": 2
}
